{
 "cells": [
  {
   "cell_type": "code",
   "execution_count": 27,
   "metadata": {},
   "outputs": [],
   "source": [
    "import requests\n",
    "from bs4 import BeautifulSoup\n",
    "from lxml import html\n",
    "from collections import namedtuple\n",
    "\n",
    "TAGGED_WORD = namedtuple('DICT', ['word', 'pos', 'description'])\n",
    "\n",
    "alphabet = 'abcdefghijklmnopqrstuvwxyz'\n",
    "links_to_parse = ['http://www.mso.anu.edu.au/~ralph/OPTED/v003/wb1913_{}.html'.format(letter)\n",
    "                  for letter in alphabet]\n",
    "\n",
    "dictionary = []\n",
    "for url in links_to_parse:\n",
    "    r = requests.get(url)\n",
    "    soup = BeautifulSoup(r.text)\n",
    "    dictionary += [TAGGED_WORD(el.b.text, el.i.text, el.i.next_sibling[2:]) for el in soup.body.findAll('p')]"
   ]
  },
  {
   "cell_type": "markdown",
   "metadata": {},
   "source": [
    "So we've just get about 180k english words with their definitions and pos (part of speech)."
   ]
  },
  {
   "cell_type": "code",
   "execution_count": 28,
   "metadata": {},
   "outputs": [
    {
     "data": {
      "text/plain": [
       "176048"
      ]
     },
     "execution_count": 28,
     "metadata": {},
     "output_type": "execute_result"
    }
   ],
   "source": [
    "len(dictionary)"
   ]
  },
  {
   "cell_type": "markdown",
   "metadata": {},
   "source": [
    "Some random slice of the dictionary:"
   ]
  },
  {
   "cell_type": "code",
   "execution_count": 34,
   "metadata": {},
   "outputs": [
    {
     "data": {
      "text/plain": [
       "[DICT(word='Egrimony', pos='', description='The herb agrimony.'),\n",
       " DICT(word='Egrimony', pos='n.', description='Sorrow.'),\n",
       " DICT(word='Egriot', pos='n.', description='A kind of sour cherry.'),\n",
       " DICT(word='Egritude', pos='n.', description='Sickness; ailment; sorrow.'),\n",
       " DICT(word='Egyptian', pos='a.', description='Pertaining to Egypt, in Africa.'),\n",
       " DICT(word='Egyptian', pos='n.', description='A native, or one of the people, of Egypt; also, the Egyptian language.'),\n",
       " DICT(word='Egyptian', pos='n.', description='A gypsy.'),\n",
       " DICT(word='Egyptized', pos='imp. & p. p.', description='of Egyptize'),\n",
       " DICT(word='Egyptizing', pos='p. pr. & vb. n.', description='of Egyptize'),\n",
       " DICT(word='Egyptize', pos='v. t.', description='To give an Egyptian character or appearance to.'),\n",
       " DICT(word='Egyptologer', pos='n.', description='Alt. of Egyptologist'),\n",
       " DICT(word='Egyptologist', pos='n.', description='One skilled in the antiquities of Egypt; a student of Egyptology.'),\n",
       " DICT(word='Egyptological', pos='a.', description='Of, pertaining to, or devoted to, Egyptology.'),\n",
       " DICT(word='Egyptology', pos='n.', description='The science or study of Egyptian antiquities, esp. the hieroglyphics.'),\n",
       " DICT(word='Eh', pos='interj.', description='An expression of inquiry or slight surprise.'),\n",
       " DICT(word='Ehlite', pos='n.', description='A mineral of a green color and pearly luster; a hydrous phosphate of copper.'),\n",
       " DICT(word='Eider', pos='n.', description='Any species of sea duck of the genus Somateria, esp. Somateria mollissima, which breeds in the northern parts of Europe and America, and lines its nest with fine down (taken from its own body) which is an article of commerce; -- called also eider duck. The American eider (S. Dresseri), the king eider (S. spectabilis), and the spectacled eider (Arctonetta Fischeri) are related species.'),\n",
       " DICT(word='Eidograph', pos='n.', description='An instrument for copying drawings on the same or a different scale; a form of the pantograph.'),\n",
       " DICT(word='Eidolon', pos='n.', description='An image or representation; a form; a phantom; an apparition.'),\n",
       " DICT(word='Eigh', pos='interj.', description='An exclamation expressing delight.')]"
      ]
     },
     "execution_count": 34,
     "metadata": {},
     "output_type": "execute_result"
    }
   ],
   "source": [
    "dictionary[50000:50020]"
   ]
  },
  {
   "cell_type": "code",
   "execution_count": 37,
   "metadata": {},
   "outputs": [],
   "source": [
    "lines = [tagged_word.word + '\\t' + tagged_word.pos + '\\t' + tagged_word.description\n",
    "         for tagged_word in dictionary ]\n",
    "\n",
    "with open('dictionary.tsv', 'w') as f:\n",
    "    f.write('\\n'.join(lines))"
   ]
  },
  {
   "cell_type": "code",
   "execution_count": 39,
   "metadata": {},
   "outputs": [],
   "source": [
    "nouns = [word for word in dictionary if word.pos=='n.']"
   ]
  },
  {
   "cell_type": "code",
   "execution_count": 40,
   "metadata": {},
   "outputs": [
    {
     "data": {
      "text/plain": [
       "84941"
      ]
     },
     "execution_count": 40,
     "metadata": {},
     "output_type": "execute_result"
    }
   ],
   "source": [
    "len(nouns)"
   ]
  },
  {
   "cell_type": "code",
   "execution_count": 41,
   "metadata": {},
   "outputs": [
    {
     "data": {
      "text/plain": [
       "[DICT(word='Aam', pos='n.', description='A Dutch and German measure of liquids, varying in different cities, being at Amsterdam about 41 wine gallons, at Antwerp 36 1/2, at Hamburg 38 1/4.'),\n",
       " DICT(word='Aard-vark', pos='n.', description='An edentate mammal, of the genus Orycteropus, somewhat resembling a pig, common in some parts of Southern Africa. It burrows in the ground, and feeds entirely on ants, which it catches with its long, slimy tongue.'),\n",
       " DICT(word='Aard-wolf', pos='n.', description='A carnivorous quadruped (Proteles Lalandii), of South Africa, resembling the fox and hyena. See Proteles.'),\n",
       " DICT(word='Ab', pos='n.', description='The fifth month of the Jewish year according to the ecclesiastical reckoning, the eleventh by the civil computation, coinciding nearly with August.'),\n",
       " DICT(word='Abaca', pos='n.', description='The Manila-hemp plant (Musa textilis); also, its fiber. See Manila hemp under Manila.'),\n",
       " DICT(word='Abacination', pos='n.', description='The act of abacinating.'),\n",
       " DICT(word='Abaciscus', pos='n.', description='One of the tiles or squares of a tessellated pavement; an abaculus.'),\n",
       " DICT(word='Abacist', pos='n.', description='One who uses an abacus in casting accounts; a calculator.'),\n",
       " DICT(word='Aback', pos='n.', description='An abacus.'),\n",
       " DICT(word='Abaction', pos='n.', description='Stealing cattle on a large scale.'),\n",
       " DICT(word='Abactor', pos='n.', description='One who steals and drives away cattle or beasts by herds or droves.'),\n",
       " DICT(word='Abaculus', pos='n.', description='A small tile of glass, marble, or other substance, of various colors, used in making ornamental patterns in mosaic pavements.'),\n",
       " DICT(word='Abacus', pos='n.', description='A table or tray strewn with sand, anciently used for drawing, calculating, etc.'),\n",
       " DICT(word='Abacus', pos='n.', description='A calculating table or frame; an instrument for performing arithmetical calculations by balls sliding on wires, or counters in grooves, the lowest line representing units, the second line, tens, etc. It is still employed in China.'),\n",
       " DICT(word='Abacus', pos='n.', description='The uppermost member or division of the capital of a column, immediately under the architrave. See Column.'),\n",
       " DICT(word='Abacus', pos='n.', description='A tablet, panel, or compartment in ornamented or mosaic work.'),\n",
       " DICT(word='Abacus', pos='n.', description='A board, tray, or table, divided into perforated compartments, for holding cups, bottles, or the like; a kind of cupboard, buffet, or sideboard.'),\n",
       " DICT(word='Abada', pos='n.', description='The rhinoceros.'),\n",
       " DICT(word='Abaddon', pos='n.', description='The destroyer, or angel of the bottomless pit; -- the same as Apollyon and Asmodeus.'),\n",
       " DICT(word='Abaddon', pos='n.', description='Hell; the bottomless pit.'),\n",
       " DICT(word='Abaisance', pos='n.', description='Obeisance.'),\n",
       " DICT(word='Abaiser', pos='n.', description='Ivory black or animal charcoal.'),\n",
       " DICT(word='Abalienation', pos='n.', description='The act of abalienating; alienation; estrangement.'),\n",
       " DICT(word='Abalone', pos='n.', description='A univalve mollusk of the genus Haliotis. The shell is lined with mother-of-pearl, and used for ornamental purposes; the sea-ear. Several large species are found on the coast of California, clinging closely to the rocks.'),\n",
       " DICT(word='Abandon', pos='n.', description='A complete giving up to natural impulses; freedom from artificial constraint; careless freedom or ease.'),\n",
       " DICT(word='Abandonee', pos='n.', description='One to whom anything is legally abandoned.'),\n",
       " DICT(word='Abandoner', pos='n.', description='One who abandons.'),\n",
       " DICT(word='Abandonment', pos='n.', description='The act of abandoning, or the state of being abandoned; total desertion; relinquishment.'),\n",
       " DICT(word='Abandonment', pos='n.', description='The relinquishment by the insured to the underwriters of what may remain of the property insured after a loss or damage by a peril insured against.'),\n",
       " DICT(word='Abandonment', pos='n.', description='The relinquishment of a right, claim, or privilege, as to mill site, etc.'),\n",
       " DICT(word='Abandonment', pos='n.', description='The voluntary leaving of a person to whom one is bound by a special relation, as a wife, husband, or child; desertion.'),\n",
       " DICT(word='Abandonment', pos='n.', description='Careless freedom or ease; abandon.'),\n",
       " DICT(word='Abandum', pos='n.', description='Anything forfeited or confiscated.'),\n",
       " DICT(word='Abanet', pos='n.', description='See Abnet.'),\n",
       " DICT(word='Abanga', pos='n.', description='A West Indian palm; also the fruit of this palm, the seeds of which are used as a remedy for diseases of the chest.'),\n",
       " DICT(word='Abannation', pos='n.', description='Alt. of Abannition'),\n",
       " DICT(word='Abannition', pos='n.', description='Banishment.'),\n",
       " DICT(word='Abarticulation', pos='n.', description='Articulation, usually that kind of articulation which admits of free motion in the joint; diarthrosis.'),\n",
       " DICT(word='Abasement', pos='n.', description='The act of abasing, humbling, or bringing low; the state of being abased or humbled; humiliation.'),\n",
       " DICT(word='Abaser', pos='n.', description='He who, or that which, abases.'),\n",
       " DICT(word='Abashment', pos='n.', description='The state of being abashed; confusion from shame.'),\n",
       " DICT(word='Abassi', pos='n.', description='Alt. of Abassis'),\n",
       " DICT(word='Abassis', pos='n.', description='A silver coin of Persia, worth about twenty cents.'),\n",
       " DICT(word='Abate', pos='n.', description='Abatement.'),\n",
       " DICT(word='Abatement', pos='n.', description='The act of abating, or the state of being abated; a lessening, diminution, or reduction; removal or putting an end to; as, the abatement of a nuisance is the suppression thereof.'),\n",
       " DICT(word='Abatement', pos='n.', description='The amount abated; that which is taken away by way of reduction; deduction; decrease; a rebate or discount allowed.'),\n",
       " DICT(word='Abatement', pos='n.', description='A mark of dishonor on an escutcheon.'),\n",
       " DICT(word='Abatement', pos='n.', description='The entry of a stranger, without right, into a freehold after the death of the last possessor, before the heir or devisee.'),\n",
       " DICT(word='Abater', pos='n.', description='One who, or that which, abates.'),\n",
       " DICT(word='Abatis', pos='n.', description='Alt. of Abattis'),\n",
       " DICT(word='Abattis', pos='n.', description='A means of defense formed by felled trees, the ends of whose branches are sharpened and directed outwards, or against the enemy.'),\n",
       " DICT(word='Abator', pos='n.', description='One who abates a nuisance.'),\n",
       " DICT(word='Abator', pos='n.', description='A person who, without right, enters into a freehold on the death of the last possessor, before the heir or devisee.'),\n",
       " DICT(word='Abattoir', pos='n.', description='A public slaughterhouse for cattle, sheep, etc.'),\n",
       " DICT(word='Abature', pos='n.', description='Grass and sprigs beaten or trampled down by a stag passing through them.'),\n",
       " DICT(word='Abatvoix', pos='n.', description='The sounding-board over a pulpit or rostrum.'),\n",
       " DICT(word='Abay', pos='n.', description='Barking; baying of dogs upon their prey. See Bay.'),\n",
       " DICT(word='Abb', pos='n.', description='Among weavers, yarn for the warp. Hence, abb wool is wool for the abb.'),\n",
       " DICT(word='Abba', pos='n.', description='Father; religious superior; -- in the Syriac, Coptic, and Ethiopic churches, a title given to the bishops, and by the bishops to the patriarch.'),\n",
       " DICT(word='Abbacy', pos='n.', description='The dignity, estate, or jurisdiction of an abbot.'),\n",
       " DICT(word='Abbe', pos='n.', description='The French word answering to the English abbot, the head of an abbey; but commonly a title of respect given in France to every one vested with the ecclesiastical habit or dress.'),\n",
       " DICT(word='Abbess', pos='n.', description='A female superior or governess of a nunnery, or convent of nuns, having the same authority over the nuns which the abbots have over the monks. See Abbey.'),\n",
       " DICT(word='Abbey', pos='n.', description='A monastery or society of persons of either sex, secluded from the world and devoted to religion and celibacy; also, the monastic building or buildings.'),\n",
       " DICT(word='Abbey', pos='n.', description='The church of a monastery.'),\n",
       " DICT(word='Abbot', pos='n.', description='The superior or head of an abbey.'),\n",
       " DICT(word='Abbot', pos='n.', description='One of a class of bishops whose sees were formerly abbeys.'),\n",
       " DICT(word='Abbotship', pos='n.', description='The state or office of an abbot.'),\n",
       " DICT(word='Abbreviate', pos='n.', description='An abridgment.'),\n",
       " DICT(word='Abbreviation', pos='n.', description='The act of shortening, or reducing.'),\n",
       " DICT(word='Abbreviation', pos='n.', description='The result of abbreviating; an abridgment.'),\n",
       " DICT(word='Abbreviation', pos='n.', description='The form to which a word or phrase is reduced by contraction and omission; a letter or letters, standing for a word or phrase of which they are a part; as, Gen. for Genesis; U.S.A. for United States of America.'),\n",
       " DICT(word='Abbreviation', pos='n.', description='One dash, or more, through the stem of a note, dividing it respectively into quavers, semiquavers, or demi-semiquavers.'),\n",
       " DICT(word='Abbreviator', pos='n.', description='One who abbreviates or shortens.'),\n",
       " DICT(word='Abbreviator', pos='n.', description='One of a college of seventy-two officers of the papal court whose duty is to make a short minute of a decision on a petition, or reply of the pope to a letter, and afterwards expand the minute into official form.'),\n",
       " DICT(word='Abbreviature', pos='n.', description='An abbreviation; an abbreviated state or form.'),\n",
       " DICT(word='Abbreviature', pos='n.', description='An abridgment; a compendium or abstract.'),\n",
       " DICT(word='Abdal', pos='n.', description='A religious devotee or dervish in Persia.'),\n",
       " DICT(word='Abderite', pos='n.', description='An inhabitant of Abdera, in Thrace.'),\n",
       " DICT(word='Abdest', pos='n.', description='Purification by washing the hands before prayer; -- a Mohammedan rite.'),\n",
       " DICT(word='Abdicant', pos='n.', description='One who abdicates.'),\n",
       " DICT(word='Abdication', pos='n.', description='The act of abdicating; the renunciation of a high office, dignity, or trust, by its holder; commonly the voluntary renunciation of sovereign power; as, abdication of the throne, government, power, authority.'),\n",
       " DICT(word='Abdicator', pos='n.', description='One who abdicates.'),\n",
       " DICT(word='Abditory', pos='n.', description='A place for hiding or preserving articles of value.'),\n",
       " DICT(word='Abdomen', pos='n.', description='The belly, or that part of the body between the thorax and the pelvis. Also, the cavity of the belly, which is lined by the peritoneum, and contains the stomach, bowels, and other viscera. In man, often restricted to the part between the diaphragm and the commencement of the pelvis, the remainder being called the pelvic cavity.'),\n",
       " DICT(word='Abdomen', pos='n.', description='The posterior section of the body, behind the thorax, in insects, crustaceans, and other Arthropoda.'),\n",
       " DICT(word='Abdominal', pos='n.', description='A fish of the group Abdominales.'),\n",
       " DICT(word='Abdominoscopy', pos='n.', description='Examination of the abdomen to detect abdominal disease.'),\n",
       " DICT(word='Abduction', pos='n.', description='The act of abducing or abducting; a drawing apart; a carrying away.'),\n",
       " DICT(word='Abduction', pos='n.', description='The movement which separates a limb or other part from the axis, or middle line, of the body.'),\n",
       " DICT(word='Abduction', pos='n.', description='The wrongful, and usually the forcible, carrying off of a human being; as, the abduction of a child, the abduction of an heiress.'),\n",
       " DICT(word='Abduction', pos='n.', description='A syllogism or form of argument in which the major is evident, but the minor is only probable.'),\n",
       " DICT(word='Abductor', pos='n.', description='One who abducts.'),\n",
       " DICT(word='Abductor', pos='n.', description='A muscle which serves to draw a part out, or form the median line of the body; as, the abductor oculi, which draws the eye outward.'),\n",
       " DICT(word='Abearance', pos='n.', description='Behavior.'),\n",
       " DICT(word='Abearing', pos='n.', description='Behavior.'),\n",
       " DICT(word='Abecedarian', pos='n.', description='One who is learning the alphabet; hence, a tyro.'),\n",
       " DICT(word='Abecedarian', pos='n.', description='One engaged in teaching the alphabet.'),\n",
       " DICT(word='Abecedary', pos='n.', description='A primer; the first principle or rudiment of anything.'),\n",
       " DICT(word='Abele', pos='n.', description='The white poplar (Populus alba).'),\n",
       " DICT(word='Abelian', pos='n.', description='Alt. of Abelonian')]"
      ]
     },
     "execution_count": 41,
     "metadata": {},
     "output_type": "execute_result"
    }
   ],
   "source": [
    "nouns[:100]"
   ]
  },
  {
   "cell_type": "code",
   "execution_count": null,
   "metadata": {},
   "outputs": [],
   "source": []
  }
 ],
 "metadata": {
  "kernelspec": {
   "display_name": "Python 3",
   "language": "python",
   "name": "python3"
  },
  "language_info": {
   "codemirror_mode": {
    "name": "ipython",
    "version": 3
   },
   "file_extension": ".py",
   "mimetype": "text/x-python",
   "name": "python",
   "nbconvert_exporter": "python",
   "pygments_lexer": "ipython3",
   "version": "3.7.4"
  }
 },
 "nbformat": 4,
 "nbformat_minor": 2
}
