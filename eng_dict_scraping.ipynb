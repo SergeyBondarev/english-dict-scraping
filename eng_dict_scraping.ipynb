{
 "cells": [
  {
   "cell_type": "code",
   "execution_count": 27,
   "metadata": {},
   "outputs": [],
   "source": [
    "import requests\n",
    "from bs4 import BeautifulSoup\n",
    "from lxml import html\n",
    "from collections import namedtuple\n",
    "\n",
    "TAGGED_WORD = namedtuple('DICT', ['word', 'pos', 'description'])\n",
    "\n",
    "alphabet = 'abcdefghijklmnopqrstuvwxyz'\n",
    "links_to_parse = ['http://www.mso.anu.edu.au/~ralph/OPTED/v003/wb1913_{}.html'.format(letter)\n",
    "                  for letter in alphabet]\n",
    "\n",
    "dictionary = []\n",
    "for url in links_to_parse:\n",
    "    r = requests.get(url)\n",
    "    soup = BeautifulSoup(r.text)\n",
    "    dictionary += [TAGGED_WORD(el.b.text, el.i.text, el.i.next_sibling[2:]) for el in soup.body.findAll('p')]"
   ]
  },
  {
   "cell_type": "markdown",
   "metadata": {},
   "source": [
    "So we've just get about 180k english words with their definitions and pos (part of speech)."
   ]
  },
  {
   "cell_type": "code",
   "execution_count": 28,
   "metadata": {},
   "outputs": [
    {
     "data": {
      "text/plain": [
       "176048"
      ]
     },
     "execution_count": 28,
     "metadata": {},
     "output_type": "execute_result"
    }
   ],
   "source": [
    "len(dictionary)"
   ]
  },
  {
   "cell_type": "markdown",
   "metadata": {},
   "source": [
    "Some random slice of the dictionary:"
   ]
  },
  {
   "cell_type": "code",
   "execution_count": 34,
   "metadata": {},
   "outputs": [
    {
     "data": {
      "text/plain": [
       "[DICT(word='Egrimony', pos='', description='The herb agrimony.'),\n",
       " DICT(word='Egrimony', pos='n.', description='Sorrow.'),\n",
       " DICT(word='Egriot', pos='n.', description='A kind of sour cherry.'),\n",
       " DICT(word='Egritude', pos='n.', description='Sickness; ailment; sorrow.'),\n",
       " DICT(word='Egyptian', pos='a.', description='Pertaining to Egypt, in Africa.'),\n",
       " DICT(word='Egyptian', pos='n.', description='A native, or one of the people, of Egypt; also, the Egyptian language.'),\n",
       " DICT(word='Egyptian', pos='n.', description='A gypsy.'),\n",
       " DICT(word='Egyptized', pos='imp. & p. p.', description='of Egyptize'),\n",
       " DICT(word='Egyptizing', pos='p. pr. & vb. n.', description='of Egyptize'),\n",
       " DICT(word='Egyptize', pos='v. t.', description='To give an Egyptian character or appearance to.'),\n",
       " DICT(word='Egyptologer', pos='n.', description='Alt. of Egyptologist'),\n",
       " DICT(word='Egyptologist', pos='n.', description='One skilled in the antiquities of Egypt; a student of Egyptology.'),\n",
       " DICT(word='Egyptological', pos='a.', description='Of, pertaining to, or devoted to, Egyptology.'),\n",
       " DICT(word='Egyptology', pos='n.', description='The science or study of Egyptian antiquities, esp. the hieroglyphics.'),\n",
       " DICT(word='Eh', pos='interj.', description='An expression of inquiry or slight surprise.'),\n",
       " DICT(word='Ehlite', pos='n.', description='A mineral of a green color and pearly luster; a hydrous phosphate of copper.'),\n",
       " DICT(word='Eider', pos='n.', description='Any species of sea duck of the genus Somateria, esp. Somateria mollissima, which breeds in the northern parts of Europe and America, and lines its nest with fine down (taken from its own body) which is an article of commerce; -- called also eider duck. The American eider (S. Dresseri), the king eider (S. spectabilis), and the spectacled eider (Arctonetta Fischeri) are related species.'),\n",
       " DICT(word='Eidograph', pos='n.', description='An instrument for copying drawings on the same or a different scale; a form of the pantograph.'),\n",
       " DICT(word='Eidolon', pos='n.', description='An image or representation; a form; a phantom; an apparition.'),\n",
       " DICT(word='Eigh', pos='interj.', description='An exclamation expressing delight.')]"
      ]
     },
     "execution_count": 34,
     "metadata": {},
     "output_type": "execute_result"
    }
   ],
   "source": [
    "dictionary[50000:50020]"
   ]
  },
  {
   "cell_type": "code",
   "execution_count": 37,
   "metadata": {},
   "outputs": [],
   "source": [
    "lines = [tagged_word.word + '\\t' + tagged_word.pos + '\\t' + tagged_word.description\n",
    "         for tagged_word in dictionary ]\n",
    "\n",
    "with open('dictionary.tsv', 'w') as f:\n",
    "    f.write('\\n'.join(lines))"
   ]
  },
  {
   "cell_type": "code",
   "execution_count": null,
   "metadata": {},
   "outputs": [],
   "source": []
  }
 ],
 "metadata": {
  "kernelspec": {
   "display_name": "Python 3",
   "language": "python",
   "name": "python3"
  },
  "language_info": {
   "codemirror_mode": {
    "name": "ipython",
    "version": 3
   },
   "file_extension": ".py",
   "mimetype": "text/x-python",
   "name": "python",
   "nbconvert_exporter": "python",
   "pygments_lexer": "ipython3",
   "version": "3.7.4"
  }
 },
 "nbformat": 4,
 "nbformat_minor": 2
}
